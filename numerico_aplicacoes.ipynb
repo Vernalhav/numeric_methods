{
  "nbformat": 4,
  "nbformat_minor": 0,
  "metadata": {
    "colab": {
      "name": "numerico_aplicacoes.ipynb",
      "provenance": [],
      "collapsed_sections": [
        "ZZ6LDWd2DspI",
        "2Hkgf7CqD8J1",
        "AcP4UamIpZSb",
        "2IsUd6QopnEU",
        "Dto-G6FOpvOf",
        "zU7SMAoP3W_S",
        "JYTL7Qnh3dSx"
      ],
      "authorship_tag": "ABX9TyMJppFTtyOJ8zkvo3rZZ26N",
      "include_colab_link": true
    },
    "kernelspec": {
      "name": "python3",
      "display_name": "Python 3"
    }
  },
  "cells": [
    {
      "cell_type": "markdown",
      "metadata": {
        "id": "view-in-github",
        "colab_type": "text"
      },
      "source": [
        "<a href=\"https://colab.research.google.com/github/Vernalhav/numeric_methods/blob/master/numerico_aplicacoes.ipynb\" target=\"_parent\"><img src=\"https://colab.research.google.com/assets/colab-badge.svg\" alt=\"Open In Colab\"/></a>"
      ]
    },
    {
      "cell_type": "markdown",
      "metadata": {
        "id": "_90l0lTiBBxP",
        "colab_type": "text"
      },
      "source": [
        "Victor Giovannoni Vernalha 10786159  \n",
        "Victor Graciano de Souza Correia 10431201"
      ]
    },
    {
      "cell_type": "code",
      "metadata": {
        "id": "22OxkD0fVFoU",
        "colab_type": "code",
        "colab": {}
      },
      "source": [
        "import matplotlib.pyplot as plt\n",
        "import numpy as np"
      ],
      "execution_count": 0,
      "outputs": []
    },
    {
      "cell_type": "markdown",
      "metadata": {
        "id": "lzj6vaF83Kwo",
        "colab_type": "text"
      },
      "source": [
        "# **Tema 1: Resolução de Sistemas Lineares**"
      ]
    },
    {
      "cell_type": "markdown",
      "metadata": {
        "id": "E5M_JkgY5GfU",
        "colab_type": "text"
      },
      "source": [
        "## Revisão Teórica (TODO)"
      ]
    },
    {
      "cell_type": "markdown",
      "metadata": {
        "id": "C4Wo1WcX5SSE",
        "colab_type": "text"
      },
      "source": [
        "## Implementação"
      ]
    },
    {
      "cell_type": "markdown",
      "metadata": {
        "id": "poTfWwyi7Wr8",
        "colab_type": "text"
      },
      "source": [
        "### Funções Auxiliares"
      ]
    },
    {
      "cell_type": "code",
      "metadata": {
        "id": "RBk0_iDp-UPK",
        "colab_type": "code",
        "colab": {}
      },
      "source": [
        "import time\n",
        "\n",
        "\n",
        "def timeit(f):\n",
        "    '''\n",
        "    Decorator that times a function\n",
        "    execution speed and returns a tuple\n",
        "    with the elapsed time and the function\n",
        "    return value(s).\n",
        "    '''\n",
        "\n",
        "    def time_f(*args, **kwargs):\n",
        "        start = time.time()\n",
        "        result = f(*args, **kwargs)\n",
        "        return time.time() - start, result\n",
        "\n",
        "    return time_f"
      ],
      "execution_count": 0,
      "outputs": []
    },
    {
      "cell_type": "code",
      "metadata": {
        "id": "ly5L7ufHOGkB",
        "colab_type": "code",
        "colab": {}
      },
      "source": [
        "def get_matrix(n, matrix_type):\n",
        "    '''\n",
        "    Returns a matrix with dimension n x n\n",
        "\n",
        "    matrix_type can be either\n",
        "        'diag dominant' : Diagonally dominant (Gauss-Seidel always converges)\n",
        "        'SPD'           : Symetrically-Positive-Definite\n",
        "        'random'        : Random elements\n",
        "\n",
        "    '''\n",
        "    A = np.random.rand(n, n)\n",
        "\n",
        "    if (matrix_type == 'SPD'): return np.dot(A, A.T)\n",
        "\n",
        "    if (matrix_type == 'random'): return A\n",
        "\n",
        "    if (matrix_type == 'diag dominant'):\n",
        "        for i in range(n):\n",
        "            A[i, i] += np.sum(np.abs(A[i, :]))\n",
        "        return A"
      ],
      "execution_count": 0,
      "outputs": []
    },
    {
      "cell_type": "code",
      "metadata": {
        "id": "uDFd5xlUEZCz",
        "colab_type": "code",
        "colab": {}
      },
      "source": [
        "def absolute_error(v1, v2):\n",
        "    return np.linalg.norm(v1 - v2)\n",
        "\n",
        "\n",
        "def gauss_seidel_convergence(A):\n",
        "    '''\n",
        "    Returns boolean indicating whether or\n",
        "    not Gauss-Seidel converges with A\n",
        "    '''\n",
        "    n = A.shape[0]\n",
        "    beta = np.zeros((n, 1))\n",
        "    beta[0] = np.sum(np.abs(A[0, 1:]))/np.abs(A[0, 0])\n",
        "    if beta[0] >= 1: return False\n",
        "\n",
        "    for i in range(1, n):\n",
        "        # Since beta is initialized as 0, we can\n",
        "        # do the dot product without worrying\n",
        "        # about the row slice\n",
        "        beta[i] = (np.dot(np.abs(A[i,:]), beta) +\n",
        "                  np.sum(np.abs(A[i, i+1:])))/np.abs(A[i, i])\n",
        "        if beta[i] >= 1: return False\n",
        "\n",
        "    return True"
      ],
      "execution_count": 0,
      "outputs": []
    },
    {
      "cell_type": "code",
      "metadata": {
        "id": "2D5TPvtHDqtT",
        "colab_type": "code",
        "colab": {}
      },
      "source": [
        "def get_range(start, end):\n",
        "    ''' Returns increasing np range if start < end, or decreasing if end < start '''\n",
        "    if start <= end:\n",
        "        return np.arange(start, end, 1)\n",
        "    else:\n",
        "        return np.arange(start, end, -1)\n",
        "\n",
        "\n",
        "def check_triangular(A):\n",
        "    ''' Checks if A is upper or lower triangular, or neither '''\n",
        "    if np.allclose(A, np.tril(A)): return 'lower'\n",
        "    if np.allclose(A, np.triu(A)): return 'upper'\n",
        "    if np.allclose(A, np.diag(np.diag(A))): return 'diagonal'    \n",
        "    return 'neither'"
      ],
      "execution_count": 0,
      "outputs": []
    },
    {
      "cell_type": "code",
      "metadata": {
        "id": "guWI0NH9DcWo",
        "colab_type": "code",
        "colab": {}
      },
      "source": [
        "def substitution(T, b):\n",
        "    '''\n",
        "    Given T a triangular matrix,\n",
        "    solves Tx = b. Returns x.\n",
        "    Throws ValueError if matrix\n",
        "    is invalid.\n",
        "    '''\n",
        "\n",
        "    n = T.shape[0]\n",
        "    start, end = 0, n\n",
        "\n",
        "    matrix_type = check_triangular(T)\n",
        "    if matrix_type == 'upper':\n",
        "        # Sets up indices for regressive substitution\n",
        "        start, end = n - 1, -1\n",
        "    if matrix_type == 'neither':\n",
        "        raise ValueError('Matrix must be either upper or lower triangular')\n",
        "\n",
        "    x = np.zeros((n, 1))\n",
        "    for i in get_range(start, end):\n",
        "        result = 0\n",
        "        for j in get_range(start, i):\n",
        "            result += T[i][j]*x[j]\n",
        "        x[i] = (b[i] - result)/T[i][i]\n",
        "\n",
        "    return x"
      ],
      "execution_count": 0,
      "outputs": []
    },
    {
      "cell_type": "markdown",
      "metadata": {
        "id": "ZZ6LDWd2DspI",
        "colab_type": "text"
      },
      "source": [
        "### Solução de sistemas por eliminação de Gauss\n"
      ]
    },
    {
      "cell_type": "code",
      "metadata": {
        "id": "9P9b9jzgC7in",
        "colab_type": "code",
        "colab": {}
      },
      "source": [
        "@timeit\n",
        "def gauss_elimination(A, b):\n",
        "    '''\n",
        "    Solves Ax = b using Gauss Elimination.\n",
        "    Returns array x and doesn't change\n",
        "    either A or b\n",
        "    '''\n",
        "\n",
        "    A = np.array(A, dtype=float)\n",
        "    b = np.array(b)\n",
        "\n",
        "    m, n = A.shape\n",
        "\n",
        "    for cur_line in range(n-1):\n",
        "        # Find the k-th pivot\n",
        "        p = np.argmax(np.abs(A[cur_line : , cur_line])) + cur_line\n",
        "\n",
        "        # Swap lines in matrix and solution vector\n",
        "        A[[cur_line, p]] = A[[p, cur_line]]\n",
        "        b[[cur_line, p]] = b[[p, cur_line]]\n",
        "\n",
        "        for cur_col in range(cur_line + 1, n):\n",
        "            m = -A[cur_col, cur_line]/A[cur_line, cur_line]\n",
        "            A[cur_col, cur_line : ] = A[cur_col, cur_line : ] + m*A[cur_line, cur_line : ]\n",
        "            b[cur_col] += m*b[cur_line]\n",
        "\n",
        "    return substitution(A, b)"
      ],
      "execution_count": 0,
      "outputs": []
    },
    {
      "cell_type": "markdown",
      "metadata": {
        "id": "2Hkgf7CqD8J1",
        "colab_type": "text"
      },
      "source": [
        "### Solução de sistemas por Gauss-Seidel"
      ]
    },
    {
      "cell_type": "code",
      "metadata": {
        "id": "xuo3dRxmEVYn",
        "colab_type": "code",
        "colab": {}
      },
      "source": [
        "EPSILON = 1e-6\n",
        "MAX_ITERATIONS = 1000\n",
        "\n",
        "@timeit\n",
        "def gauss_seidel(A, b, tol=EPSILON, max_iterations=MAX_ITERATIONS, return_error=False):\n",
        "    '''\n",
        "    Given a real matrix A and an array b, solve for x\n",
        "    iteratively until relative error < tol or number\n",
        "    of iterations exceeds the max.\n",
        "\n",
        "    if return_error is true, returns (x, error)\n",
        "    '''\n",
        "    A = np.array(A)\n",
        "    n = A.shape[0]\n",
        "\n",
        "    L_inv = np.linalg.inv(np.tril(A))\n",
        "    R = np.triu(A, k=1)\n",
        "\n",
        "    C = np.dot(-L_inv, R)\n",
        "    g = np.dot(L_inv, b)\n",
        "\n",
        "    x = np.zeros((n, 1))\n",
        "    x_prev = np.zeros((n, 1))\n",
        "\n",
        "    iterations = 0\n",
        "    error = tol + 1 # Just to guarantee the first iteration\n",
        "\n",
        "    while iterations < max_iterations and error > tol:\n",
        "        x = np.dot(C, x_prev) + g\n",
        "        \n",
        "        iterations += 1\n",
        "        error = absolute_error(np.dot(A, x), b)\n",
        "        x_prev = x\n",
        "        \n",
        "    if return_error: return x, error\n",
        "    return x"
      ],
      "execution_count": 0,
      "outputs": []
    },
    {
      "cell_type": "markdown",
      "metadata": {
        "id": "TmV9aOpr5WL7",
        "colab_type": "text"
      },
      "source": [
        "## Aplicação"
      ]
    },
    {
      "cell_type": "code",
      "metadata": {
        "id": "-C7bG-4X8Tvk",
        "colab_type": "code",
        "colab": {}
      },
      "source": [
        "def return_info(max_n=2**9, max_iterations=1e3, tol=1e-6, matrix_type='diag dominant'):\n",
        "    '''\n",
        "    Compares Gauss-Seidel and Gauss Elimination\n",
        "    using matrices of size 16 to max_n, multiplied\n",
        "    by 2 each time.\n",
        "\n",
        "    matrix_type can be either\n",
        "        'diag dominant' : Diagonally dominant (Gauss-Seidel always converges)\n",
        "        'SPD'           : Symetrically-Positive-Definite\n",
        "        'random'        : Random elements\n",
        "    '''\n",
        "\n",
        "    info = {\n",
        "        'n': [],\n",
        "        'gauss-elimination': {\n",
        "            'times': [],\n",
        "        },\n",
        "        'gauss-seidel': {\n",
        "            'times': [],\n",
        "            'errors': []\n",
        "        }\n",
        "    }\n",
        "\n",
        "    n = 16\n",
        "    while n <= max_n:\n",
        "        A = get_matrix(n, matrix_type)\n",
        "        b = np.random.rand(n, 1)\n",
        "\n",
        "        info['n'].append(n)\n",
        "\n",
        "        # print(f'Testing Gauss elimination with n = {n}')\n",
        "        duration, x = gauss_elimination(A, b)\n",
        "        info['gauss-elimination']['times'].append(duration)\n",
        "\n",
        "        # print(f'Testing Gauss-Seidel with n = {n}')\n",
        "        duration, (x, error) = gauss_seidel(A, b, tol=tol, max_iterations=max_iterations, return_error=True)\n",
        "        info['gauss-seidel']['times'].append(duration)\n",
        "        info['gauss-seidel']['errors'].append(error)\n",
        "\n",
        "        n *= 2\n",
        "    \n",
        "    return info"
      ],
      "execution_count": 0,
      "outputs": []
    },
    {
      "cell_type": "code",
      "metadata": {
        "id": "3c4wh_ZbGQUD",
        "colab_type": "code",
        "colab": {}
      },
      "source": [
        "def compare_methods(max_n=2**9, max_iterations=1e3, tol=1e-3, matrix_type='diag dominant'):\n",
        "    '''\n",
        "    Plots the data collected from the comparison\n",
        "    of the two methods.\n",
        "\n",
        "    max_n represents the maximum dimension of the square matrix\n",
        "    max_iterations represents the max number of iterations for Gauss-Seidel\n",
        "    tol is the absolute residual tolerance for Gauss-Seidel\n",
        "    matrix_type can be either\n",
        "        'diag dominant' : Diagonally dominant (Gauss-Seidel always converges)\n",
        "        'SPD'           : Symetrically-Positive-Definite\n",
        "        'random'        : Random elements\n",
        "    '''\n",
        "    info = return_info(max_n, max_iterations, tol, matrix_type)\n",
        "\n",
        "    fig, ax = plt.subplots()\n",
        "    ax.set_xscale('log', basex=2)\n",
        "\n",
        "    Ns = info['n']\n",
        "    elimination_times = info['gauss-elimination']['times']\n",
        "    seidel_times = info['gauss-seidel']['times']\n",
        "    seidel_errors = info['gauss-seidel']['errors']\n",
        "\n",
        "    ax.plot(Ns, elimination_times, label='Gaussian Elimination Time')\n",
        "    ax.plot(Ns, seidel_times, label='Gauss-Seidel Time')\n",
        "\n",
        "    ax2 = ax.twinx()\n",
        "\n",
        "    colormap = np.where(np.array(seidel_errors) < tol, 'b', 'r')\n",
        "    ax2.scatter(Ns, seidel_errors, label='Gauss-Seidel Errors', marker='o', color=colormap)\n",
        "\n",
        "    ax.set_ylim((0, 1 + min(60, max(max(seidel_times), max(elimination_times)))))\n",
        "\n",
        "    ax.set_ylabel('Time (s)')\n",
        "    ax.set_xlabel('N')\n",
        "    ax2.set_ylabel('Absolute Residual Error')\n",
        "\n",
        "    ax.legend(loc='upper left', fontsize='medium', bbox_to_anchor=(1.2, 1))\n",
        "    ax2.legend(loc='upper left', fontsize='medium', bbox_to_anchor=(1.2, 0.8))\n",
        "\n",
        "    plt.show()"
      ],
      "execution_count": 0,
      "outputs": []
    },
    {
      "cell_type": "markdown",
      "metadata": {
        "id": "hRRKicZbPaWD",
        "colab_type": "text"
      },
      "source": [
        "---"
      ]
    },
    {
      "cell_type": "markdown",
      "metadata": {
        "id": "hQuBvqveFRbi",
        "colab_type": "text"
      },
      "source": [
        "Nesse exemplo, geramos matrizes dominantes diagonais para que o método de Gauss-Seidel sempre convergisse. Podemos ver que nessa circunstância, o Gauss-Seidel é a melhor opção, já que é muito mais rápido que a eliminação de Gauss e converge para todos os valores de $n$ com um erro dentro da tolerância."
      ]
    },
    {
      "cell_type": "code",
      "metadata": {
        "id": "eaeIaaww9WSs",
        "colab_type": "code",
        "outputId": "1df95d79-830c-43c0-d46c-9624174bec7a",
        "colab": {
          "base_uri": "https://localhost:8080/",
          "height": 283
        }
      },
      "source": [
        "compare_methods(max_n=2**10, matrix_type='diag dominant')"
      ],
      "execution_count": 101,
      "outputs": [
        {
          "output_type": "display_data",
          "data": {
            "image/png": "[encoded data removed]",
            "text/plain": [
              "<Figure size 432x288 with 2 Axes>"
            ]
          },
          "metadata": {
            "tags": [],
            "needs_background": "light"
          }
        }
      ]
    },
    {
      "cell_type": "markdown",
      "metadata": {
        "id": "pbMak99rPWfh",
        "colab_type": "text"
      },
      "source": [
        "---"
      ]
    },
    {
      "cell_type": "markdown",
      "metadata": {
        "id": "EhZXH1uGI87d",
        "colab_type": "text"
      },
      "source": [
        "Nesse exemplo, geramos matrizes SPD (simétricas positivas definidas) multiplicando a matriz aleatória por sua transposta. Nesse caso, ficam bem mais visíveis as deficiências do Gauss-Seidel. Com $10^4$ iterações, o tempo de execução dos dois métodos é muito semelhante, embora o Gauss-Seidel tenha convergido em apenas um caso ($n=10^5$), mesmo com a tolerância razoavelmente baixa. Nesse caso, definitivamente a eliminação de Gauss é a melhor opção, já que o seu resultado é \"exato\" (obtido diretamente)."
      ]
    },
    {
      "cell_type": "code",
      "metadata": {
        "id": "WADubErYGOdi",
        "colab_type": "code",
        "colab": {
          "base_uri": "https://localhost:8080/",
          "height": 283
        },
        "outputId": "61b85242-e833-4add-901e-6781d6e34cc0"
      },
      "source": [
        "# Red dots indicate that Gauss-Seidel has not converged fot that matrix size.\n",
        "compare_methods(max_n=2**10, matrix_type='SPD', max_iterations=1e4, tol=1e-3)"
      ],
      "execution_count": 102,
      "outputs": [
        {
          "output_type": "display_data",
          "data": {
            "image/png": "[encoded data removed]",
            "text/plain": [
              "<Figure size 432x288 with 2 Axes>"
            ]
          },
          "metadata": {
            "tags": [],
            "needs_background": "light"
          }
        }
      ]
    },
    {
      "cell_type": "markdown",
      "metadata": {
        "id": "_WyJ1bmdPezT",
        "colab_type": "text"
      },
      "source": [
        "---"
      ]
    },
    {
      "cell_type": "markdown",
      "metadata": {
        "id": "MH9gItlVo0hC",
        "colab_type": "text"
      },
      "source": [
        "# **Tema 2: Interpolação polinomial**"
      ]
    },
    {
      "cell_type": "markdown",
      "metadata": {
        "id": "AcP4UamIpZSb",
        "colab_type": "text"
      },
      "source": [
        "## Revisão teórica"
      ]
    },
    {
      "cell_type": "markdown",
      "metadata": {
        "id": "eCV_KnakhTAJ",
        "colab_type": "text"
      },
      "source": [
        "O objetivo da interpolação polinomial é dado $n+1$ pontos $P_0, P_1, \\dots P_n$, encontrar uma função polinomial $P(x)$ de grau $n$ que passe por todos os pontos dados.  \n",
        "  \n",
        "Optamos chegar nesse resultado através do polinômio no formato de Lagrange, já que a explicação é mais intuitiva e a implementação mais simples.  \n",
        "  \n",
        "Queremos encontrar um polinômio da forma $$P(x) = \\sum_{k=0}^{n} y_kl_k(x)$$\n",
        "Onde $l_k(x)$ é um polinômio que só depende da coordenada $x$ dos pontos dados e $y_k$ é a k-ésima coordenada $y$ dos pontos dados.  \n",
        "\n",
        "Se o k-ésimo ponto tem coordenadas $(x_k, y_k)$, sabemos que $P(x_k) = y_k$, já que queremos que o polinômio passe por todos os pontos dados.  \n",
        "Observe que uma maneira dessa condição ser atendida é para que todos os polinômios $\\ l_i(x_k) = 0$ quando $i \\neq k\\ $ e $\\ l_k(x_k) = 1$, já que o somatório iria resultar em exatamente $y_k$.  \n",
        "Mas se $\\ i \\neq k \\implies l_k(x_i) = 0$, então o conjunto $\\{ x_0, \\dots, x_{k-1}, x_{k+1}, \\dots, x_n \\}$ correspondem às raízes de $l_k(x)$.  \n",
        "  \n",
        "Podemos então escrever\n",
        "\n",
        "$$ \\quad l_k(x) = \\alpha\\prod_{\\substack{i=0\\\\i \\neq k}}^{n}(x - x_i) \\tag{$\\star$} $$\n",
        "\n",
        "Observe que, de fato, o conjunto de raízes que definimos acima é satisfeito para esse polinômio. O fator $\\alpha$ é necessário para representar todos os polinômios que possuem essas raízes. Para encontrar $\\alpha$, basta utilizar o fato de que $l_k(x_k)=1$. Avaliando $l_k(x_k)$, temos:\n",
        "\n",
        "$$1 = \\alpha \\prod_{\\substack{i=0\\\\i \\neq k}}^{n}(x_k-x_i),$$\n",
        "\n",
        "logo\n",
        "\n",
        "$$ \\alpha = \\prod_{\\substack{i=0 \\\\ i \\neq k}}^{n}(x_k - x_i)^{-1} $$\n",
        "  \n",
        "Portanto, substituindo $\\alpha$ em $(\\star)$, o nosso polinômio $l_k(x)$ é\n",
        "\n",
        "$$l_k(x) = \\prod_{\\substack{i=0 \\\\ i \\neq k}}^{n}\\frac{(x - x_i)}{(x_k - x_i)}$$\n",
        "\n",
        "  \n",
        "Uma vez que definimos todos os $l_k(x)$, podemos construir $P(x)$."
      ]
    },
    {
      "cell_type": "markdown",
      "metadata": {
        "id": "2IsUd6QopnEU",
        "colab_type": "text"
      },
      "source": [
        "## Implementação"
      ]
    },
    {
      "cell_type": "code",
      "metadata": {
        "id": "jYg7ZgTrptlL",
        "colab_type": "code",
        "colab": {}
      },
      "source": [
        "def k_lagrange_polynomial(k, X):\n",
        "    \"\"\"\n",
        "    Return the k-th lagrange polynomial as a function.\n",
        "    It receives x as input and returns L_k(x)\n",
        "    \"\"\"\n",
        "    x_k = X[k]\n",
        "    X_new = np.delete(X, k)\n",
        "\n",
        "    def k_polynomial(x):\n",
        "        return np.prod((x - X_new)/(x_k - X_new))\n",
        "    \n",
        "    return k_polynomial"
      ],
      "execution_count": 0,
      "outputs": []
    },
    {
      "cell_type": "code",
      "metadata": {
        "id": "mKsRAmvK3p-x",
        "colab_type": "code",
        "colab": {}
      },
      "source": [
        "def lagrange_polynomial(X, Y, return_Ls=False):\n",
        "    \"\"\"\n",
        "    Returns the polynomial that fits the given points X/Y\n",
        "    as a function.\n",
        "    The returned function receives x as input and returns\n",
        "    P(x).\n",
        "\n",
        "    If retuen_Ls is True, then this function returns a tuple\n",
        "    with the first element being P(x) and the second is an\n",
        "    array with all the L_k polynomials used to compute P(x).\n",
        "    \"\"\"\n",
        "\n",
        "    X = np.array(X)\n",
        "    Y = np.array(Y)\n",
        "    n = X.shape[0]\n",
        "    \n",
        "    L = [ k_lagrange_polynomial(k, X) for k in range(n) ]\n",
        "\n",
        "    def polynomial(x):\n",
        "        L_x = np.array([ L[k](x) for k in range(n) ])\n",
        "        return np.dot(Y, L_x)\n",
        "\n",
        "    if return_Ls: return polynomial, L\n",
        "    \n",
        "    return polynomial"
      ],
      "execution_count": 0,
      "outputs": []
    },
    {
      "cell_type": "markdown",
      "metadata": {
        "id": "Dto-G6FOpvOf",
        "colab_type": "text"
      },
      "source": [
        "## Aplicação: aproximação de funções por _sampling_"
      ]
    },
    {
      "cell_type": "code",
      "metadata": {
        "id": "3RNxyk6Yp8iv",
        "colab_type": "code",
        "colab": {}
      },
      "source": [
        "def approximate(points, x_0, show_Ls=True, show_axis=False):\n",
        "    \"\"\"\n",
        "    Approximate a value P(x_0) given a set of points by\n",
        "    fitting a polynomial through them. \n",
        "    \n",
        "    Returns P(x_0), where P(x) is the lagrange polynomial\n",
        "    that fits the given points and displays the computed\n",
        "    polynomial.\n",
        "\n",
        "    If show_Ls is false, do not display the L polynomials\n",
        "    that were used to compute P(x). If it is true, display\n",
        "    y_k*l_k(x)\n",
        "\n",
        "    If show_axis is true, display the x axis.\n",
        "    \"\"\"\n",
        "\n",
        "    X = [points[i][0] for i in range(len(points))]\n",
        "    Y = [points[i][1] for i in range(len(points))]\n",
        "\n",
        "    P, L = lagrange_polynomial(X, Y, return_Ls=True)\n",
        "    \n",
        "    min_x = min(X)\n",
        "    max_x = max(X)\n",
        "\n",
        "    avg_x_dist = (min_x + max_x + 1)/(2*len(X))\n",
        "\n",
        "    # x coordinates to evaluate P(x) in\n",
        "    x = np.linspace(min(x_0, min_x) - avg_x_dist, max(x_0, max(X)) + avg_x_dist, 10*len(X))\n",
        "\n",
        "    plt.plot(x, [P(x_i) for x_i in x])  # Plot P(x)\n",
        "    plt.scatter(X, Y, marker='o')       # Mark given points\n",
        "\n",
        "    plt.scatter(x_0, P(x_0), marker='o', color='red')   # Mark x_0/P(x_0)\n",
        "\n",
        "    if show_axis: plt.plot([x[0], x[-1]], [0, 0], color='black') # Plot x axis\n",
        "\n",
        "    if not show_Ls:\n",
        "        plt.show()\n",
        "        return P(x_0)\n",
        "\n",
        "    for i in range(len(L)):\n",
        "        # Plot y_i*L_k(x)\n",
        "        plt.plot(x, [Y[i]*L[i](x_i) for x_i in x], linestyle='--', alpha=0.7)\n",
        "\n",
        "    plt.show()\n",
        "    return P(x_0)"
      ],
      "execution_count": 0,
      "outputs": []
    },
    {
      "cell_type": "markdown",
      "metadata": {
        "id": "lm67cgdTzDEY",
        "colab_type": "text"
      },
      "source": [
        "Algo interessante de se visualizar é que o polinômio $y_kl_k(x)$ gerado por cada $x_k$ se intersecta com a curva final no ponto $(x_k, y_k)$ por conta da restrição que impusemos:  $l_k(x_k) = 1$. Além disso, o polinômio é 0 para os outros pontos fornecidos por conta da outra restrição que impusemos com relação às suas raízes."
      ]
    },
    {
      "cell_type": "code",
      "metadata": {
        "id": "tacsOWoO9U4A",
        "colab_type": "code",
        "outputId": "8b34c8ed-90e8-4cef-e529-9f7d7079a6b5",
        "colab": {
          "base_uri": "https://localhost:8080/",
          "height": 0
        }
      },
      "source": [
        "points = [(100, 10), (200, -10), (300, 20), (400, -10)]\n",
        "x_0 = 150\n",
        "\n",
        "approx = approximate(points, x_0)\n",
        "print('An approximation for f({}) is {:.2f}'.format(x_0, approx))"
      ],
      "execution_count": 97,
      "outputs": [
        {
          "output_type": "display_data",
          "data": {
            "image/png": "[encoded data removed]",
            "text/plain": [
              "<Figure size 432x288 with 1 Axes>"
            ]
          },
          "metadata": {
            "tags": [],
            "needs_background": "light"
          }
        },
        {
          "output_type": "stream",
          "text": [
            "An approximation for f(150) is -13.12\n"
          ],
          "name": "stdout"
        }
      ]
    },
    {
      "cell_type": "code",
      "metadata": {
        "id": "3acbCcgZRsJe",
        "colab_type": "code",
        "outputId": "b139c57f-d46f-4f6b-9b29-2b95af822c8e",
        "colab": {
          "base_uri": "https://localhost:8080/",
          "height": 0
        }
      },
      "source": [
        "x_0 = 55\n",
        "points = [(100, 10), (200, -10), (300, 20)]\n",
        "\n",
        "approx = approximate(points, x_0, show_axis=True)\n",
        "print('An approximation for f({}) is {:.2f}'.format(x_0, approx))"
      ],
      "execution_count": 98,
      "outputs": [
        {
          "output_type": "display_data",
          "data": {
            "image/png": "[encoded data removed]",
            "text/plain": [
              "<Figure size 432x288 with 1 Axes>"
            ]
          },
          "metadata": {
            "tags": [],
            "needs_background": "light"
          }
        },
        {
          "output_type": "stream",
          "text": [
            "An approximation for f(55) is 35.31\n"
          ],
          "name": "stdout"
        }
      ]
    },
    {
      "cell_type": "code",
      "metadata": {
        "id": "EbHDgkfdUnXi",
        "colab_type": "code",
        "outputId": "804515ba-38de-41d1-bb7f-ead46e850f83",
        "colab": {
          "base_uri": "https://localhost:8080/",
          "height": 0
        }
      },
      "source": [
        "points = [(x, np.exp(x)) for x in range(-1, 6)]\n",
        "x_0 = 5\n",
        "\n",
        "approx = approximate(points, x_0, show_axis=False, show_Ls=False)\n",
        "print('An approximation for f({}) is {:.2f}'.format(x_0, approx))"
      ],
      "execution_count": 99,
      "outputs": [
        {
          "output_type": "display_data",
          "data": {
            "image/png": "[encoded data removed]",
            "text/plain": [
              "<Figure size 432x288 with 1 Axes>"
            ]
          },
          "metadata": {
            "tags": [],
            "needs_background": "light"
          }
        },
        {
          "output_type": "stream",
          "text": [
            "An approximation for f(5) is 148.41\n"
          ],
          "name": "stdout"
        }
      ]
    },
    {
      "cell_type": "code",
      "metadata": {
        "id": "kuYzT-NckpbP",
        "colab_type": "code",
        "outputId": "eed0aa88-5543-40eb-ac20-69d76aee4cd1",
        "colab": {
          "base_uri": "https://localhost:8080/",
          "height": 0
        }
      },
      "source": [
        "points = [(x, x) for x in range(-5, 6)]\n",
        "x_0 = 0.5\n",
        "\n",
        "approx = approximate(points, x_0, show_axis=True)\n",
        "print('An approximation for f({}) is {:.2f}'.format(x_0, approx))"
      ],
      "execution_count": 100,
      "outputs": [
        {
          "output_type": "display_data",
          "data": {
            "image/png": "[encoded data removed]",
            "text/plain": [
              "<Figure size 432x288 with 1 Axes>"
            ]
          },
          "metadata": {
            "tags": [],
            "needs_background": "light"
          }
        },
        {
          "output_type": "stream",
          "text": [
            "An approximation for f(0.5) is 0.50\n"
          ],
          "name": "stdout"
        }
      ]
    },
    {
      "cell_type": "markdown",
      "metadata": {
        "id": "zU7SMAoP3W_S",
        "colab_type": "text"
      },
      "source": [
        "# **Tema 3: Regressão Linear**"
      ]
    },
    {
      "cell_type": "markdown",
      "metadata": {
        "colab_type": "text",
        "id": "izGC6XW87FBx"
      },
      "source": [
        "## Revisão Teórica (TODO)"
      ]
    },
    {
      "cell_type": "markdown",
      "metadata": {
        "colab_type": "text",
        "id": "lNr_JP-07FB2"
      },
      "source": [
        "## Implementação"
      ]
    },
    {
      "cell_type": "markdown",
      "metadata": {
        "colab_type": "text",
        "id": "xPRkW1e87FB7"
      },
      "source": [
        "## Aplicação"
      ]
    },
    {
      "cell_type": "markdown",
      "metadata": {
        "id": "JYTL7Qnh3dSx",
        "colab_type": "text"
      },
      "source": [
        "# **Tema 4: Solução Numérica de EDOs ou Autovalores**"
      ]
    },
    {
      "cell_type": "markdown",
      "metadata": {
        "colab_type": "text",
        "id": "DkfY-I4h7GDJ"
      },
      "source": [
        "## Revisão Teórica (TODO)"
      ]
    },
    {
      "cell_type": "markdown",
      "metadata": {
        "colab_type": "text",
        "id": "6AuohDWh7GDP"
      },
      "source": [
        "## Implementação"
      ]
    },
    {
      "cell_type": "markdown",
      "metadata": {
        "colab_type": "text",
        "id": "VfjSjBAu7GDT"
      },
      "source": [
        "## Aplicação"
      ]
    }
  ]
}