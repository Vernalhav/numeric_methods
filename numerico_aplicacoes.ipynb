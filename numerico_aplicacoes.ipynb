{
  "nbformat": 4,
  "nbformat_minor": 0,
  "metadata": {
    "colab": {
      "name": "numerico_aplicacoes.ipynb",
      "provenance": [],
      "collapsed_sections": [
        "lzj6vaF83Kwo",
        "E5M_JkgY5GfU",
        "poTfWwyi7Wr8",
        "ZZ6LDWd2DspI",
        "2Hkgf7CqD8J1",
        "TmV9aOpr5WL7",
        "MH9gItlVo0hC",
        "AcP4UamIpZSb",
        "2IsUd6QopnEU",
        "Dto-G6FOpvOf",
        "zU7SMAoP3W_S",
        "DkfY-I4h7GDJ",
        "6AuohDWh7GDP",
        "VfjSjBAu7GDT"
      ],
      "authorship_tag": "ABX9TyNOVwQRuIuCqWFAiFTJF3me",
      "include_colab_link": true
    },
    "kernelspec": {
      "name": "python3",
      "display_name": "Python 3"
    }
  },
  "cells": [
    {
      "cell_type": "markdown",
      "metadata": {
        "id": "view-in-github",
        "colab_type": "text"
      },
      "source": [
        "<a href=\"https://colab.research.google.com/github/Vernalhav/numeric_methods/blob/master/numerico_aplicacoes.ipynb\" target=\"_parent\"><img src=\"https://colab.research.google.com/assets/colab-badge.svg\" alt=\"Open In Colab\"/></a>"
      ]
    },
    {
      "cell_type": "markdown",
      "metadata": {
        "id": "_90l0lTiBBxP",
        "colab_type": "text"
      },
      "source": [
        "Victor Giovannoni Vernalha 10786159  \n",
        "Victor Graciano de Souza Correia 10431201"
      ]
    },
    {
      "cell_type": "code",
      "metadata": {
        "id": "22OxkD0fVFoU",
        "colab_type": "code",
        "colab": {}
      },
      "source": [
        "import matplotlib.pyplot as plt\n",
        "import numpy as np"
      ],
      "execution_count": 2,
      "outputs": []
    },
    {
      "cell_type": "markdown",
      "metadata": {
        "id": "tQpsV8q-mmzF",
        "colab_type": "text"
      },
      "source": [
        "# Funções auxiliares"
      ]
    },
    {
      "cell_type": "code",
      "metadata": {
        "id": "rtrZA0E9MNpj",
        "colab_type": "code",
        "colab": {}
      },
      "source": [
        "def compare_implementation(Xs, errors, times, linearize_x = False,\\\n",
        "                           x_label = 'N', title='NumPy implementation comparison',\\\n",
        "                           err_metric='Absolute Difference between implementations'):\n",
        "    \"\"\"\n",
        "    Visualize the difference in performance and result\n",
        "    between our implementation and NumPy's.\n",
        "\n",
        "    Xs:         array of X values for which the errors and times were calculated\n",
        "    errors:     array of errors between our result and NumPy's\n",
        "    times:      tuple containing 2 arrays: our execution times and NumPy's execution times \n",
        "    linearize_x: whether to make x entries evenly spaced (retaining Xs labels) \n",
        "    x_label:    label to give to the x axis\n",
        "    title:      graph title\n",
        "    err_metric: label for the error scatterplot\n",
        "    \"\"\"\n",
        "\n",
        "    fig, ax = plt.subplots()\n",
        "    linear_x = np.arange(len(errors))\n",
        "\n",
        "    ax.set_xticks([Xs, linear_x][linearize_x])\n",
        "    ax.xaxis.set_ticklabels(Xs)\n",
        "    ax.set_title(title)\n",
        "\n",
        "    time_ax = ax.twinx()\n",
        "    time_ax.bar([Xs, linear_x][linearize_x], times[0], label='Our execution times', zorder=-1)\n",
        "    time_ax.bar([Xs, linear_x][linearize_x], times[1], label='NumPy\\'s execution times', zorder=0)\n",
        "\n",
        "    ax.scatter([Xs, linear_x][linearize_x], errors, label=err_metric, color='red', zorder=1)\n",
        "\n",
        "    time_ax.set_zorder(0)\n",
        "    ax.set_zorder(1)\n",
        "    ax.patch.set_visible(False)\n",
        "\n",
        "    ax.legend(loc='upper left', fontsize='medium', bbox_to_anchor=(1.2, 0.8))\n",
        "    time_ax.legend(loc='upper left', fontsize='medium', bbox_to_anchor=(1.2, 1))\n",
        "\n",
        "    time_ax.set_ylabel('Time (s)')\n",
        "    ax.set_ylabel('Absolute difference')\n",
        "\n",
        "    plt.show()"
      ],
      "execution_count": 47,
      "outputs": []
    },
    {
      "cell_type": "code",
      "metadata": {
        "id": "d2fQXSU0xtJA",
        "colab_type": "code",
        "colab": {}
      },
      "source": [
        "import time\n",
        "\n",
        "def timeit(f):\n",
        "    \"\"\"\n",
        "    Decorator that times a function\n",
        "    execution speed and returns a tuple\n",
        "    with the elapsed time and the function\n",
        "    return value(s).\n",
        "    \"\"\"\n",
        "\n",
        "    def time_f(*args, **kwargs):\n",
        "        start = time.time()\n",
        "        result = f(*args, **kwargs)\n",
        "        return time.time() - start, result\n",
        "\n",
        "    return time_f"
      ],
      "execution_count": 4,
      "outputs": []
    },
    {
      "cell_type": "code",
      "metadata": {
        "id": "ebMpIuDExnBu",
        "colab_type": "code",
        "colab": {}
      },
      "source": [
        "@timeit\n",
        "def numpy_wrapper(numpy_function, *args, **kwargs):\n",
        "    return numpy_function(*args, **kwargs)\n",
        "\n",
        "@timeit\n",
        "def implementation_wrapper(implementation_function, *args, **kwargs):\n",
        "    return implementation_function(*args, **kwargs)"
      ],
      "execution_count": 5,
      "outputs": []
    },
    {
      "cell_type": "markdown",
      "metadata": {
        "id": "lzj6vaF83Kwo",
        "colab_type": "text"
      },
      "source": [
        "# **Tema 1: Resolução de Sistemas Lineares**"
      ]
    },
    {
      "cell_type": "markdown",
      "metadata": {
        "id": "E5M_JkgY5GfU",
        "colab_type": "text"
      },
      "source": [
        "## Revisão Teórica (TODO)"
      ]
    },
    {
      "cell_type": "markdown",
      "metadata": {
        "id": "fx24yZgsCb6o",
        "colab_type": "text"
      },
      "source": [
        "Um sistema linear de ordem $n$ pode ser escrito como\n",
        "$$Ax = b \\quad A \\in \\mathbb{M}_n(\\mathbb{R}) \\; x, b \\in \\mathbb{R}^n$$\n",
        "com $A, b$ dados. O objetivo do sistema é encontrar o vetor $x$ tal que a igualdade seja satisfeita.  \n",
        "  \n",
        "Existem algoritmos para solucionar esses sistemas, e eles são divididos em duas grandes categorias: os métodos diretos e os métodos iterativos. Os métodos diretos encontram a solução numérica de maneira \"exata\" (descontando erros de arredondamento inerentes às operações computacionais). Os métodos iterativos, quando convergem, encontram uma solução que pode ser arbitrariamente próxima da solução real.  \n",
        "  \n",
        "Nessa aplicação, decidimos comparar os métodos de Eliminação de Gauss e o método Gauss-Seidel.  \n",
        "A eliminação de Gauss consiste em escalonar a matriz $A$ e o vetor $b$ de modo que $A$ fique diagonal superior e o sistema seja equivalente, para que seja solucionado por substituições trivialmente.  \n",
        "  \n",
        "O método Gauss-Seidel consiste em encontrar ??"
      ]
    },
    {
      "cell_type": "markdown",
      "metadata": {
        "id": "C4Wo1WcX5SSE",
        "colab_type": "text"
      },
      "source": [
        "## Implementação (Gauss-Seidel e Eliminação de Gauss)"
      ]
    },
    {
      "cell_type": "markdown",
      "metadata": {
        "id": "poTfWwyi7Wr8",
        "colab_type": "text"
      },
      "source": [
        "### Funções Auxiliares"
      ]
    },
    {
      "cell_type": "code",
      "metadata": {
        "id": "ly5L7ufHOGkB",
        "colab_type": "code",
        "colab": {}
      },
      "source": [
        "def get_matrix(n, matrix_type):\n",
        "    '''\n",
        "    Returns a matrix with dimension n x n\n",
        "\n",
        "    matrix_type can be either\n",
        "        'diag dominant' : Diagonally dominant (Gauss-Seidel always converges)\n",
        "        'SPD'           : Symetrically Positive Definite\n",
        "        'Semi SPD'      : Symetrucally Positive Semi-Definite\n",
        "        'random'        : Random elements\n",
        "\n",
        "    '''\n",
        "    A = np.random.rand(n, n)\n",
        "\n",
        "    if (matrix_type == 'Semi SPD'): return np.dot(A, A.T)\n",
        "\n",
        "    if (matrix_type == 'SPD'): return np.dot(np.tril(A), np.tril(A).T)\n",
        "\n",
        "    if (matrix_type == 'random'): return A\n",
        "\n",
        "    if (matrix_type == 'diag dominant'):\n",
        "        for i in range(n):\n",
        "            A[i, i] += np.sum(np.abs(A[i, :]))\n",
        "        return A"
      ],
      "execution_count": 6,
      "outputs": []
    },
    {
      "cell_type": "code",
      "metadata": {
        "id": "uDFd5xlUEZCz",
        "colab_type": "code",
        "colab": {}
      },
      "source": [
        "INF = 2**32\n",
        "\n",
        "def absolute_error(v1, v2):\n",
        "    error = np.linalg.norm(v1 - v2)\n",
        "    return error if not np.isnan(error) else INF\n",
        "\n",
        "\n",
        "def gauss_seidel_convergence(A):\n",
        "    '''\n",
        "    Returns boolean indicating whether or\n",
        "    not Gauss-Seidel converges with A\n",
        "    '''\n",
        "    n = A.shape[0]\n",
        "    beta = np.zeros((n, 1))\n",
        "    beta[0] = np.sum(np.abs(A[0, 1:]))/np.abs(A[0, 0])\n",
        "    if beta[0] >= 1: return False\n",
        "\n",
        "    for i in range(1, n):\n",
        "        # Since beta is initialized as 0, we can\n",
        "        # do the dot product without worrying\n",
        "        # about the row slice\n",
        "        beta[i] = (np.dot(np.abs(A[i,:]), beta) +\n",
        "                  np.sum(np.abs(A[i, i+1:])))/np.abs(A[i, i])\n",
        "        if beta[i] >= 1: return False\n",
        "\n",
        "    return True"
      ],
      "execution_count": 7,
      "outputs": []
    },
    {
      "cell_type": "code",
      "metadata": {
        "id": "2D5TPvtHDqtT",
        "colab_type": "code",
        "colab": {}
      },
      "source": [
        "def get_range(start, end):\n",
        "    ''' Returns increasing np range if start < end, or decreasing if end < start '''\n",
        "    if start <= end:\n",
        "        return np.arange(start, end, 1)\n",
        "    else:\n",
        "        return np.arange(start, end, -1)\n",
        "\n",
        "\n",
        "def check_triangular(A):\n",
        "    ''' Checks if A is upper or lower triangular, or neither '''\n",
        "    if np.allclose(A, np.tril(A)): return 'lower'\n",
        "    if np.allclose(A, np.triu(A)): return 'upper'\n",
        "    if np.allclose(A, np.diag(np.diag(A))): return 'diagonal'    \n",
        "    return 'neither'"
      ],
      "execution_count": 8,
      "outputs": []
    },
    {
      "cell_type": "code",
      "metadata": {
        "id": "guWI0NH9DcWo",
        "colab_type": "code",
        "colab": {}
      },
      "source": [
        "def substitution(T, b):\n",
        "    '''\n",
        "    Given T a triangular matrix,\n",
        "    solves Tx = b. Returns x.\n",
        "    Throws ValueError if matrix\n",
        "    is invalid.\n",
        "    '''\n",
        "\n",
        "    n = T.shape[0]\n",
        "    start, end = 0, n\n",
        "\n",
        "    matrix_type = check_triangular(T)\n",
        "    if matrix_type == 'upper':\n",
        "        # Sets up indices for regressive substitution\n",
        "        start, end = n - 1, -1\n",
        "    if matrix_type == 'neither':\n",
        "        raise ValueError('Matrix must be either upper or lower triangular')\n",
        "\n",
        "    x = np.zeros((n, 1))\n",
        "    for i in get_range(start, end):\n",
        "        result = 0\n",
        "        for j in get_range(start, i):\n",
        "            result += T[i][j]*x[j]\n",
        "        x[i] = (b[i] - result)/T[i][i]\n",
        "\n",
        "    return x"
      ],
      "execution_count": 9,
      "outputs": []
    },
    {
      "cell_type": "markdown",
      "metadata": {
        "id": "ZZ6LDWd2DspI",
        "colab_type": "text"
      },
      "source": [
        "### Solução de sistemas por eliminação de Gauss\n"
      ]
    },
    {
      "cell_type": "code",
      "metadata": {
        "id": "9P9b9jzgC7in",
        "colab_type": "code",
        "colab": {}
      },
      "source": [
        "@timeit\n",
        "def gauss_elimination(A, b):\n",
        "    '''\n",
        "    Solves Ax = b using Gauss Elimination.\n",
        "    Returns array x and doesn't change\n",
        "    either A or b\n",
        "    '''\n",
        "\n",
        "    A = np.array(A, dtype=float)\n",
        "    b = np.array(b)\n",
        "\n",
        "    m, n = A.shape\n",
        "\n",
        "    for cur_line in range(n-1):\n",
        "        # Find the k-th pivot\n",
        "        p = np.argmax(np.abs(A[cur_line : , cur_line])) + cur_line\n",
        "\n",
        "        # Swap lines in matrix and solution vector\n",
        "        A[[cur_line, p]] = A[[p, cur_line]]\n",
        "        b[[cur_line, p]] = b[[p, cur_line]]\n",
        "\n",
        "        for cur_col in range(cur_line + 1, n):\n",
        "            m = -A[cur_col, cur_line]/A[cur_line, cur_line]\n",
        "            A[cur_col, cur_line : ] = A[cur_col, cur_line : ] + m*A[cur_line, cur_line : ]\n",
        "            b[cur_col] += m*b[cur_line]\n",
        "\n",
        "    return substitution(A, b)"
      ],
      "execution_count": 10,
      "outputs": []
    },
    {
      "cell_type": "markdown",
      "metadata": {
        "id": "2Hkgf7CqD8J1",
        "colab_type": "text"
      },
      "source": [
        "### Solução de sistemas por Gauss-Seidel"
      ]
    },
    {
      "cell_type": "code",
      "metadata": {
        "id": "xuo3dRxmEVYn",
        "colab_type": "code",
        "colab": {}
      },
      "source": [
        "EPSILON = 1e-6\n",
        "MAX_ITERATIONS = 1000\n",
        "\n",
        "@timeit\n",
        "def gauss_seidel(A, b, tol=EPSILON, max_iterations=MAX_ITERATIONS, return_error=False):\n",
        "    '''\n",
        "    Given a real matrix A and an array b, solve for x\n",
        "    iteratively until relative error < tol or number\n",
        "    of iterations exceeds the max.\n",
        "\n",
        "    if return_error is true, returns (x, error)\n",
        "    '''\n",
        "    A = np.array(A)\n",
        "    n = A.shape[0]\n",
        "\n",
        "    L_inv = np.linalg.inv(np.tril(A))\n",
        "    R = np.triu(A, k=1)\n",
        "\n",
        "    C = np.dot(-L_inv, R)\n",
        "    g = np.dot(L_inv, b)\n",
        "\n",
        "    x = np.zeros((n, 1))\n",
        "    x_prev = np.zeros((n, 1))\n",
        "\n",
        "    iterations = 0\n",
        "    error = tol + 1 # Just to guarantee the first iteration\n",
        "\n",
        "    while iterations < max_iterations and error > tol:\n",
        "        x = np.dot(C, x_prev) + g\n",
        "        \n",
        "        iterations += 1\n",
        "        error = absolute_error(np.dot(A, x), b)\n",
        "        x_prev = x\n",
        "        \n",
        "    if return_error: return x, error\n",
        "    return x"
      ],
      "execution_count": 11,
      "outputs": []
    },
    {
      "cell_type": "markdown",
      "metadata": {
        "colab_type": "text",
        "id": "9ln7vvKPYxUh"
      },
      "source": [
        "## Comparação com a implementação do NumPy"
      ]
    },
    {
      "cell_type": "markdown",
      "metadata": {
        "id": "TmV9aOpr5WL7",
        "colab_type": "text"
      },
      "source": [
        "## Aplicação: comparação de métodos diretos e iterativos"
      ]
    },
    {
      "cell_type": "code",
      "metadata": {
        "id": "-C7bG-4X8Tvk",
        "colab_type": "code",
        "colab": {}
      },
      "source": [
        "def return_info(max_n=2**9, max_iterations=1e3, tol=1e-6, matrix_type='diag dominant'):\n",
        "    \"\"\"\n",
        "    Compares Gauss-Seidel and Gauss Elimination\n",
        "    using matrices of size 16 to max_n, multiplied\n",
        "    by 2 each time.\n",
        "\n",
        "    matrix_type can be either\n",
        "        'diag dominant' : Diagonally dominant (Gauss-Seidel always converges)\n",
        "        'SPD'           : Symetrically-Positive-Definite\n",
        "        'random'        : Random elements\n",
        "    \"\"\"\n",
        "\n",
        "    info = {\n",
        "        'n': [],\n",
        "        'gauss-elimination': {\n",
        "            'times': [],\n",
        "        },\n",
        "        'gauss-seidel': {\n",
        "            'times': [],\n",
        "            'errors': []\n",
        "        }\n",
        "    }\n",
        "\n",
        "    n = 16\n",
        "    while n <= max_n:\n",
        "        A = get_matrix(n, matrix_type)\n",
        "        b = np.random.rand(n, 1)\n",
        "\n",
        "        info['n'].append(n)\n",
        "\n",
        "        # print(f'Testing Gauss elimination with n = {n}')\n",
        "        duration, x = gauss_elimination(A, b)\n",
        "        info['gauss-elimination']['times'].append(duration)\n",
        "\n",
        "        # print(f'Testing Gauss-Seidel with n = {n}')\n",
        "        duration, (x, error) = gauss_seidel(A, b, tol=tol, max_iterations=max_iterations, return_error=True)\n",
        "        info['gauss-seidel']['times'].append(duration)\n",
        "        info['gauss-seidel']['errors'].append(error)\n",
        "\n",
        "        n *= 2\n",
        "    \n",
        "    return info"
      ],
      "execution_count": 12,
      "outputs": []
    },
    {
      "cell_type": "code",
      "metadata": {
        "id": "3c4wh_ZbGQUD",
        "colab_type": "code",
        "colab": {}
      },
      "source": [
        "def compare_methods(max_n=2**9, max_iterations=1e3, tol=1e-3, matrix_type='diag dominant'):\n",
        "    '''\n",
        "    Plots the data collected from the comparison\n",
        "    of the two methods.\n",
        "\n",
        "    max_n represents the maximum dimension of the square matrix\n",
        "    max_iterations represents the max number of iterations for Gauss-Seidel\n",
        "    tol is the absolute residual tolerance for Gauss-Seidel\n",
        "    matrix_type can be either\n",
        "        'diag dominant' : Diagonally dominant (Gauss-Seidel always converges)\n",
        "        'SPD'           : Symetrically-Positive-Definite\n",
        "        'random'        : Random elements\n",
        "    '''\n",
        "    info = return_info(max_n, max_iterations, tol, matrix_type)\n",
        "\n",
        "    fig, ax = plt.subplots()\n",
        "    ax.set_xscale('log', basex=2)\n",
        "\n",
        "    Ns = info['n']\n",
        "    elimination_times = info['gauss-elimination']['times']\n",
        "    seidel_times = info['gauss-seidel']['times']\n",
        "    seidel_errors = info['gauss-seidel']['errors']\n",
        "\n",
        "    ax.plot(Ns, elimination_times, label='Gaussian Elimination Time')\n",
        "    ax.plot(Ns, seidel_times, label='Gauss-Seidel Time')\n",
        "\n",
        "    ax2 = ax.twinx()\n",
        "\n",
        "    colormap = np.where(np.array(seidel_errors) < tol, 'b', 'r')\n",
        "    ax2.scatter(Ns, seidel_errors, label='Gauss-Seidel Errors', marker='o', color=colormap)\n",
        "\n",
        "    ax.set_ylim((0, 1 + min(60, max(max(seidel_times), max(elimination_times)))))\n",
        "\n",
        "    ax.set_ylabel('Time (s)')\n",
        "    ax.set_xlabel('N')\n",
        "    ax2.set_ylabel('Absolute Residual Error')\n",
        "\n",
        "    ax.legend(loc='upper left', fontsize='medium', bbox_to_anchor=(1.2, 1))\n",
        "    ax2.legend(loc='upper left', fontsize='medium', bbox_to_anchor=(1.2, 0.8))\n",
        "\n",
        "    plt.show()"
      ],
      "execution_count": 13,
      "outputs": []
    },
    {
      "cell_type": "markdown",
      "metadata": {
        "id": "hRRKicZbPaWD",
        "colab_type": "text"
      },
      "source": [
        "---"
      ]
    },
    {
      "cell_type": "markdown",
      "metadata": {
        "id": "hQuBvqveFRbi",
        "colab_type": "text"
      },
      "source": [
        "Nesse exemplo, geramos matrizes dominantes diagonais para que o método de Gauss-Seidel sempre convergisse. Podemos ver que nessa circunstância, o Gauss-Seidel é a melhor opção, já que é muito mais rápido que a eliminação de Gauss e converge para todos os valores de $n$ com um erro dentro da tolerância."
      ]
    },
    {
      "cell_type": "code",
      "metadata": {
        "id": "eaeIaaww9WSs",
        "colab_type": "code",
        "colab": {
          "base_uri": "https://localhost:8080/",
          "height": 283
        },
        "outputId": "3df6788d-0059-4e5b-93e2-1b6bc3eaacba"
      },
      "source": [
        "compare_methods(max_n=2**10, matrix_type='diag dominant')"
      ],
      "execution_count": 14,
      "outputs": [
        {
          "output_type": "display_data",
          "data": {
            "image/png": "[encoded data removed]",
            "text/plain": [
              "<Figure size 432x288 with 2 Axes>"
            ]
          },
          "metadata": {
            "tags": [],
            "needs_background": "light"
          }
        }
      ]
    },
    {
      "cell_type": "markdown",
      "metadata": {
        "id": "pbMak99rPWfh",
        "colab_type": "text"
      },
      "source": [
        "---"
      ]
    },
    {
      "cell_type": "markdown",
      "metadata": {
        "id": "vc0m-gEf2HMM",
        "colab_type": "text"
      },
      "source": [
        "Nesse exemplo, geramos matrizes Simétricas Positivas Semi-Definidas $(x^TMx \\geq 0 \\quad \\forall\\; x \\in \\mathbb{R}^n)$ multiplicando uma matriz aleatória por sua transposta. Nesse caso, ficam bem mais visíveis as deficiências do Gauss-Seidel. Com $10^4$ iterações, o tempo de execução dos dois métodos é muito semelhante, embora o Gauss-Seidel tenha convergido em nenhum caso (mesmo com a tolerância razoavelmente alta). Os erros exibidos, no entanto, são \"pequenos\", indicando que o método talvez fosse convergir se aumentássemos as iterações, mas definitivamente a eliminação de Gauss é a melhor opção, já que o seu resultado é \"exato\" (obtido diretamente) e tem um tempo de execução melhor."
      ]
    },
    {
      "cell_type": "code",
      "metadata": {
        "id": "TkzpZYGq2Au7",
        "colab_type": "code",
        "colab": {
          "base_uri": "https://localhost:8080/",
          "height": 283
        },
        "outputId": "d4356d2d-a517-4143-e9a7-78e2cde2efc6"
      },
      "source": [
        "# Red dots indicate that Gauss-Seidel has not converged fot that matrix size.\n",
        "compare_methods(max_n=2**10, matrix_type='Semi SPD', max_iterations=1e4, tol=1e-3)"
      ],
      "execution_count": 15,
      "outputs": [
        {
          "output_type": "display_data",
          "data": {
            "image/png": "[encoded data removed]",
            "text/plain": [
              "<Figure size 432x288 with 2 Axes>"
            ]
          },
          "metadata": {
            "tags": [],
            "needs_background": "light"
          }
        }
      ]
    },
    {
      "cell_type": "markdown",
      "metadata": {
        "id": "z5K1K6h72FhQ",
        "colab_type": "text"
      },
      "source": [
        "---"
      ]
    },
    {
      "cell_type": "markdown",
      "metadata": {
        "id": "EhZXH1uGI87d",
        "colab_type": "text"
      },
      "source": [
        "Nesse exemplo, geramos matrizes aleatórias. Podemos ver que o método de Gauss-Seidel não converge, tendo erros \"infinitos\" (representados por $2^{32}$)."
      ]
    },
    {
      "cell_type": "code",
      "metadata": {
        "id": "WADubErYGOdi",
        "colab_type": "code",
        "colab": {
          "base_uri": "https://localhost:8080/",
          "height": 294
        },
        "outputId": "123c7ca8-b59d-40b8-a8ad-1f98e444af8d"
      },
      "source": [
        "compare_methods(max_n=2**10, matrix_type='random', max_iterations=1e4, tol=1e-3)"
      ],
      "execution_count": 16,
      "outputs": [
        {
          "output_type": "display_data",
          "data": {
            "image/png": "[encoded data removed]",
            "text/plain": [
              "<Figure size 432x288 with 2 Axes>"
            ]
          },
          "metadata": {
            "tags": [],
            "needs_background": "light"
          }
        }
      ]
    },
    {
      "cell_type": "markdown",
      "metadata": {
        "id": "_WyJ1bmdPezT",
        "colab_type": "text"
      },
      "source": [
        "---"
      ]
    },
    {
      "cell_type": "markdown",
      "metadata": {
        "id": "MH9gItlVo0hC",
        "colab_type": "text"
      },
      "source": [
        "# **Tema 2: Interpolação polinomial**"
      ]
    },
    {
      "cell_type": "markdown",
      "metadata": {
        "id": "AcP4UamIpZSb",
        "colab_type": "text"
      },
      "source": [
        "## Revisão teórica"
      ]
    },
    {
      "cell_type": "markdown",
      "metadata": {
        "id": "eCV_KnakhTAJ",
        "colab_type": "text"
      },
      "source": [
        "O objetivo da interpolação polinomial é dado $n+1$ pontos $P_0, P_1, \\dots P_n$, encontrar uma função polinomial $P(x)$ de grau $n$ que passe por todos os pontos dados.  \n",
        "  \n",
        "Optamos chegar nesse resultado através do polinômio no formato de Lagrange, já que a explicação é mais intuitiva e a implementação mais simples.  \n",
        "  \n",
        "Queremos encontrar um polinômio da forma $$P(x) = \\sum_{k=0}^{n} y_kl_k(x)$$\n",
        "Onde $l_k(x)$ é um polinômio que só depende da coordenada $x$ dos pontos dados e $y_k$ é a k-ésima coordenada $y$ dos pontos dados.  \n",
        "\n",
        "Se o k-ésimo ponto tem coordenadas $(x_k, y_k)$, sabemos que $P(x_k) = y_k$, já que queremos que o polinômio passe por todos os pontos dados.  \n",
        "Observe que uma maneira dessa condição ser atendida é para que todos os polinômios $\\ l_i(x_k) = 0$ quando $i \\neq k\\ $ e $\\ l_k(x_k) = 1$, já que o somatório iria resultar em exatamente $y_k$.  \n",
        "Mas se $\\ i \\neq k \\implies l_k(x_i) = 0$, então o conjunto $\\{ x_0, \\dots, x_{k-1}, x_{k+1}, \\dots, x_n \\}$ correspondem às raízes de $l_k(x)$.  \n",
        "  \n",
        "Podemos então escrever\n",
        "\n",
        "$$ \\quad l_k(x) = \\alpha\\prod_{\\substack{i=0\\\\i \\neq k}}^{n}(x - x_i) \\tag{$\\star$} $$\n",
        "\n",
        "Observe que, de fato, o conjunto de raízes que definimos acima é satisfeito para esse polinômio. O fator $\\alpha$ é necessário para representar todos os polinômios que possuem essas raízes. Para encontrar $\\alpha$, basta utilizar o fato de que $l_k(x_k)=1$. Avaliando $l_k(x_k)$, temos:\n",
        "\n",
        "$$1 = \\alpha \\prod_{\\substack{i=0\\\\i \\neq k}}^{n}(x_k-x_i),$$\n",
        "\n",
        "logo\n",
        "\n",
        "$$ \\alpha = \\prod_{\\substack{i=0 \\\\ i \\neq k}}^{n}(x_k - x_i)^{-1} $$\n",
        "  \n",
        "Portanto, substituindo $\\alpha$ em $(\\star)$, o nosso polinômio $l_k(x)$ é\n",
        "\n",
        "$$l_k(x) = \\prod_{\\substack{i=0 \\\\ i \\neq k}}^{n}\\frac{(x - x_i)}{(x_k - x_i)}$$\n",
        "\n",
        "  \n",
        "Uma vez que definimos todos os $l_k(x)$, podemos construir $P(x)$."
      ]
    },
    {
      "cell_type": "markdown",
      "metadata": {
        "id": "2IsUd6QopnEU",
        "colab_type": "text"
      },
      "source": [
        "## Implementação (polinômio de Lagrange)"
      ]
    },
    {
      "cell_type": "code",
      "metadata": {
        "id": "jYg7ZgTrptlL",
        "colab_type": "code",
        "colab": {}
      },
      "source": [
        "def k_lagrange_polynomial(k, X):\n",
        "    \"\"\"\n",
        "    Return the k-th lagrange polynomial as a function.\n",
        "    It receives x as input and returns L_k(x)\n",
        "    \"\"\"\n",
        "    x_k = X[k]\n",
        "    X_new = np.delete(X, k)\n",
        "\n",
        "    def k_polynomial(x):\n",
        "        return np.prod((x - X_new)/(x_k - X_new))\n",
        "    \n",
        "    return k_polynomial"
      ],
      "execution_count": 17,
      "outputs": []
    },
    {
      "cell_type": "code",
      "metadata": {
        "id": "mKsRAmvK3p-x",
        "colab_type": "code",
        "colab": {}
      },
      "source": [
        "def lagrange_polynomial(X, Y, return_Ls=False):\n",
        "    \"\"\"\n",
        "    Returns the polynomial that fits the given points X/Y\n",
        "    as a function.\n",
        "    The returned function receives x as input and returns\n",
        "    P(x).\n",
        "\n",
        "    If retuen_Ls is True, then this function returns a tuple\n",
        "    with the first element being P(x) and the second is an\n",
        "    array with all the L_k polynomials used to compute P(x).\n",
        "    \"\"\"\n",
        "\n",
        "    X = np.array(X)\n",
        "    Y = np.array(Y)\n",
        "    n = X.shape[0]\n",
        "    \n",
        "    L = [ k_lagrange_polynomial(k, X) for k in range(n) ]\n",
        "\n",
        "    def polynomial(x):\n",
        "        L_x = np.array([ L[k](x) for k in range(n) ])\n",
        "        return np.dot(Y, L_x)\n",
        "\n",
        "    if return_Ls: return polynomial, L\n",
        "    \n",
        "    return polynomial"
      ],
      "execution_count": 18,
      "outputs": []
    },
    {
      "cell_type": "markdown",
      "metadata": {
        "colab_type": "text",
        "id": "a4dLAtsZYsHu"
      },
      "source": [
        "## Comparação com a implementação do NumPy"
      ]
    },
    {
      "cell_type": "markdown",
      "metadata": {
        "id": "Dto-G6FOpvOf",
        "colab_type": "text"
      },
      "source": [
        "## Aplicação: aproximação de funções por _samples_"
      ]
    },
    {
      "cell_type": "code",
      "metadata": {
        "id": "3RNxyk6Yp8iv",
        "colab_type": "code",
        "colab": {}
      },
      "source": [
        "def approximate(points, x_0, show_Ls=True, show_axis=False):\n",
        "    \"\"\"\n",
        "    Approximate a value P(x_0) given a set of points by\n",
        "    fitting a polynomial through them. \n",
        "    \n",
        "    Returns P(x_0), where P(x) is the lagrange polynomial\n",
        "    that fits the given points and displays the computed\n",
        "    polynomial.\n",
        "\n",
        "    If show_Ls is false, do not display the L polynomials\n",
        "    that were used to compute P(x). If it is true, display\n",
        "    y_k*l_k(x)\n",
        "\n",
        "    If show_axis is true, display the x axis.\n",
        "    \"\"\"\n",
        "\n",
        "    X = [points[i][0] for i in range(len(points))]\n",
        "    Y = [points[i][1] for i in range(len(points))]\n",
        "\n",
        "    P, L = lagrange_polynomial(X, Y, return_Ls=True)\n",
        "    \n",
        "    min_x = min(X)\n",
        "    max_x = max(X)\n",
        "\n",
        "    avg_x_dist = (min_x + max_x + 1)/(2*len(X))\n",
        "\n",
        "    # x coordinates to evaluate P(x) in\n",
        "    x = np.linspace(min(x_0, min_x) - avg_x_dist, max(x_0, max(X)) + avg_x_dist, 10*len(X))\n",
        "\n",
        "    plt.plot(x, [P(x_i) for x_i in x])  # Plot P(x)\n",
        "    plt.scatter(X, Y, marker='o')       # Mark given points\n",
        "\n",
        "    plt.scatter(x_0, P(x_0), marker='o', color='red')   # Mark x_0/P(x_0)\n",
        "\n",
        "    if show_axis: plt.plot([x[0], x[-1]], [0, 0], color='black') # Plot x axis\n",
        "\n",
        "    if not show_Ls:\n",
        "        plt.show()\n",
        "        return P(x_0)\n",
        "\n",
        "    for i in range(len(L)):\n",
        "        # Plot y_i*L_k(x)\n",
        "        plt.plot(x, [Y[i]*L[i](x_i) for x_i in x], linestyle='--', alpha=0.7)\n",
        "\n",
        "    plt.show()\n",
        "    return P(x_0)"
      ],
      "execution_count": 19,
      "outputs": []
    },
    {
      "cell_type": "markdown",
      "metadata": {
        "id": "lm67cgdTzDEY",
        "colab_type": "text"
      },
      "source": [
        "Algo interessante de se visualizar é que o polinômio $y_kl_k(x)$ gerado por cada $x_k$ se intersecta com a curva final no ponto $(x_k, y_k)$ por conta da restrição que impusemos:  $l_k(x_k) = 1$. Além disso, o polinômio é 0 para os outros pontos fornecidos por conta da outra restrição que impusemos com relação às suas raízes."
      ]
    },
    {
      "cell_type": "code",
      "metadata": {
        "id": "tacsOWoO9U4A",
        "colab_type": "code",
        "colab": {
          "base_uri": "https://localhost:8080/",
          "height": 283
        },
        "outputId": "1916fe81-9c31-4c31-940d-f1e51e102865"
      },
      "source": [
        "points = [(100, 10), (200, -10), (300, 20), (400, -10)]\n",
        "x_0 = 150\n",
        "\n",
        "approx = approximate(points, x_0)\n",
        "print('An approximation for f({}) is {:.2f}'.format(x_0, approx))"
      ],
      "execution_count": 20,
      "outputs": [
        {
          "output_type": "display_data",
          "data": {
            "image/png": "[encoded data removed]",
            "text/plain": [
              "<Figure size 432x288 with 1 Axes>"
            ]
          },
          "metadata": {
            "tags": [],
            "needs_background": "light"
          }
        },
        {
          "output_type": "stream",
          "text": [
            "An approximation for f(150) is -13.12\n"
          ],
          "name": "stdout"
        }
      ]
    },
    {
      "cell_type": "code",
      "metadata": {
        "id": "3acbCcgZRsJe",
        "colab_type": "code",
        "colab": {
          "base_uri": "https://localhost:8080/",
          "height": 283
        },
        "outputId": "529aedae-df22-407b-e192-492108d96f17"
      },
      "source": [
        "x_0 = 55\n",
        "points = [(100, 10), (200, -10), (300, 20)]\n",
        "\n",
        "approx = approximate(points, x_0, show_axis=True)\n",
        "print('An approximation for f({}) is {:.2f}'.format(x_0, approx))"
      ],
      "execution_count": 21,
      "outputs": [
        {
          "output_type": "display_data",
          "data": {
            "image/png": "[encoded data removed]",
            "text/plain": [
              "<Figure size 432x288 with 1 Axes>"
            ]
          },
          "metadata": {
            "tags": [],
            "needs_background": "light"
          }
        },
        {
          "output_type": "stream",
          "text": [
            "An approximation for f(55) is 35.31\n"
          ],
          "name": "stdout"
        }
      ]
    },
    {
      "cell_type": "code",
      "metadata": {
        "id": "EbHDgkfdUnXi",
        "colab_type": "code",
        "colab": {
          "base_uri": "https://localhost:8080/",
          "height": 283
        },
        "outputId": "eba0f762-4876-44f8-c578-473c77920c7d"
      },
      "source": [
        "points = [(x, np.exp(x)) for x in range(-1, 6)]\n",
        "x_0 = 6\n",
        "\n",
        "approx = approximate(points, x_0, show_axis=False, show_Ls=False)\n",
        "print('An approximation for f({}) is {:.2f}'.format(x_0, approx))"
      ],
      "execution_count": 22,
      "outputs": [
        {
          "output_type": "display_data",
          "data": {
            "image/png": "[encoded data removed]",
            "text/plain": [
              "<Figure size 432x288 with 1 Axes>"
            ]
          },
          "metadata": {
            "tags": [],
            "needs_background": "light"
          }
        },
        {
          "output_type": "stream",
          "text": [
            "An approximation for f(6) is 387.16\n"
          ],
          "name": "stdout"
        }
      ]
    },
    {
      "cell_type": "code",
      "metadata": {
        "id": "kuYzT-NckpbP",
        "colab_type": "code",
        "colab": {
          "base_uri": "https://localhost:8080/",
          "height": 283
        },
        "outputId": "31c6f4a4-233a-4554-d886-55652b3ea250"
      },
      "source": [
        "points = [(x, x) for x in range(-5, 6)]\n",
        "x_0 = 0.5\n",
        "\n",
        "approx = approximate(points, x_0, show_axis=True)\n",
        "print('An approximation for f({}) is {:.2f}'.format(x_0, approx))"
      ],
      "execution_count": 23,
      "outputs": [
        {
          "output_type": "display_data",
          "data": {
            "image/png": "[encoded data removed]",
            "text/plain": [
              "<Figure size 432x288 with 1 Axes>"
            ]
          },
          "metadata": {
            "tags": [],
            "needs_background": "light"
          }
        },
        {
          "output_type": "stream",
          "text": [
            "An approximation for f(0.5) is 0.50\n"
          ],
          "name": "stdout"
        }
      ]
    },
    {
      "cell_type": "markdown",
      "metadata": {
        "id": "zU7SMAoP3W_S",
        "colab_type": "text"
      },
      "source": [
        "# **Tema 3: Regressão Linear ou solução de EDOs**"
      ]
    },
    {
      "cell_type": "markdown",
      "metadata": {
        "colab_type": "text",
        "id": "izGC6XW87FBx"
      },
      "source": [
        "## Revisão Teórica (TODO)"
      ]
    },
    {
      "cell_type": "markdown",
      "metadata": {
        "colab_type": "text",
        "id": "lNr_JP-07FB2"
      },
      "source": [
        "## Implementação"
      ]
    },
    {
      "cell_type": "markdown",
      "metadata": {
        "colab_type": "text",
        "id": "Ii5bcdAIYopN"
      },
      "source": [
        "## Comparação com a implementação do NumPy"
      ]
    },
    {
      "cell_type": "markdown",
      "metadata": {
        "colab_type": "text",
        "id": "xPRkW1e87FB7"
      },
      "source": [
        "## Aplicação"
      ]
    },
    {
      "cell_type": "markdown",
      "metadata": {
        "id": "JYTL7Qnh3dSx",
        "colab_type": "text"
      },
      "source": [
        "# **Tema 4: Método dos Autovalores e Autovetores**"
      ]
    },
    {
      "cell_type": "markdown",
      "metadata": {
        "colab_type": "text",
        "id": "DkfY-I4h7GDJ"
      },
      "source": [
        "## Revisão Teórica"
      ]
    },
    {
      "cell_type": "markdown",
      "metadata": {
        "id": "_vLtJIngI916",
        "colab_type": "text"
      },
      "source": [
        "Dada uma matriz $A \\in \\mathbb{M}_n(\\mathbb{R})$, são seus autovetores aqueles vetores $v \\in \\mathbb{R}_n$ tais que\n",
        "$$Av = \\lambda v, \\quad \\lambda \\in \\mathbb{R}$$\n",
        "e seus autovalores são os correspondentes valores de $\\lambda$.  \n",
        "  \n",
        "### Método de Francis\n",
        "Para calcular esses valores para matrizes $A$ simétricas, utilizaremos o Método de Francis, que consiste em decompor A em diversas matrizes iterativamente $Q, R$ tais que $Q_i$ sejam ortogonais e $R_i$ sejam triangulares superiores.  \n",
        "Utilizando o método QR, obteremos:\n",
        "$$A_1 = Q_1R_1$$\n",
        "$$A_2 = R_1Q_1,\\: \\text{decomporemos ainda em}$$\n",
        "$$A_2 = Q_2R_2$$\n",
        "$$\\text{e assim sucessivamente, tal que}$$\n",
        "$$A_k = R_{k-1}Q_{k-1}$$  \n",
        "$$\\text{como}\\, A_k = (Q_1\\dots Q_{k-1})^TA(Q_1\\dots Q_{k-1}),$$\n",
        "$$\\text{tomando}\\: V = Q_1\\dots Q_{k-1}, \\, \\text{temos}$$\n",
        "$$A_k = V^TAV, \\, \\text{logo, são semelhantes}$$  \n",
        "Como $A$ e $A_k$ são semelhantes, ambas têm o mesmo polinômio característico e consequentemente os mesmos autovalores. Como $A_k$ tende a uma matriz diagonal, podemos também enxergar $V$ como a matriz de mudança de base para a base de autovetores de $A$. Dessa forma, os elementos da diagonal de $A_k$ fornecem uma boa aproximação para os autovalores de $A$ e os vetores-coluna de $V$ aproximam os respectivos autovetores de $A$.  \n",
        "  \n",
        "Com esse método, conseguimos obter uma aproximação para os autovalores e os autovetores de matrizes simétricas. Vamos utilizar isso para implementar a decomposição SVD.  \n",
        "\n",
        "### Decomposição SVD Truncada\n",
        "A decomposição SVD truncada consiste em fatorar uma matriz $A \\in \\mathbb{M}_{m\\times n}(\\mathbb{R})$ de posto $p > 0$ em três matrizes tais que  \n",
        "  \n",
        "$$ A = \\hat U \\hat \\Sigma \\hat V^T, \\, \\text{onde}$$\n",
        "$$k = min(m, n)\\, \\text{e} $$\n",
        "$$ \\hat U \\in \\mathbb{M}_{m \\times k}(\\mathbb{R}), \\, \n",
        "\\hat \\Sigma \\in \\mathbb{M}_{k\\times k}(\\mathbb{R}), \\,\n",
        "\\hat V^T \\in \\mathbb{M}_{k\\times n}(\\mathbb{R})$$  \n",
        "\n",
        "E $\\hat \\Sigma$ é matriz diagonal e os elementos $\\sigma_i$ da diagonal de $\\hat \\Sigma$ são positivos e ordenados decrescentemente. Os valores $\\sigma$ são chamados valores singulares de $A$.  \n",
        "Considere a matriz simétrica $A^TA$. Se $A$ possui decomposição SVD completa, então $A = U \\Sigma V^T$, com $U$ e $V^T$ ortogonais., então  \n",
        "\n",
        "$$A^TA = (V \\Sigma U^T)(U \\Sigma V^T) \\\\\n",
        "= V\\Sigma^2V^T$$  \n",
        "\n",
        "Oberve que, por conta das dimensões da matriz $\\Sigma$, a simplificação utilizada acima de que $\\Sigma^T = \\Sigma$ não vale, já que, embora seja diagonal, $\\Sigma$ não é quadrada. Mesmo assim, a matriz $\\Sigma$ irá conter $p$ elementos na sua diagonal, e o resto será preenchido por 0. Então quando se indica $\\Sigma^2$, leia-se a matriz quadrada de dimensões apropriadas cujos $p$ primeiros elementos da diagonal são os valores singulares ao quadrado de $A$. Podemos obter as matrizes $V$ e $\\Sigma^2$ através do método de Francis descrito acima.  \n",
        "Com isso, podemos obter a matriz $\\hat \\Sigma$ truncando a matriz $\\Sigma^2$ para que seja $k \\times k$ e extraindo a raíz quadrada dos elementos da diagonal. Podemos também obter a matriz $\\hat V^T$ truncando a matriz $V^T$ para que tenha dimensões $k \\times n$. Com essas matrizes, conseguimos encontrar $\\hat U$ fazendo\n",
        "$$\\hat U = A \\hat V \\hat \\Sigma^{-1}$$\n",
        "Essa forma de encontrar $\\hat U$ é mais otimizada do que repetir o raciocínio para a matriz $AA^T$, já que economizaremos uma chamada ao método de Francis (que é bem caro).\n",
        "  \n",
        "### Compressão de Imagens\n",
        "Podemos representar uma imagem como um tensor $m \\times n \\times c$ onde $c$ é o número de canais de cor da imagem. Podemos também pensar na imagem como $c$ matrizes $m \\times n$. Para simplicidade, vamos usar como exemplo uma imagem _grayscale_ ($c = 1$). Podemos fatorar essa matriz $A$ em sua decomposição SVD truncada\n",
        "$$A = \\hat U \\hat \\Sigma \\hat V^T $$\n",
        "As dimensões das matrizes serão, respectivamente, $m \\times k, k \\times k, k \\times n$. Essa representação da matriz ocupará $k(k + m + n)$ bytes. Uma maneira de diminuir a quantidade de bytes na repreentação da image seria utilizando menos valores singulares na matriz $\\hat \\Sigma$. A representação de $A$ utilizando $s$ valores singulares pode ser obtida truncando as matrizes $\\hat U, \\hat \\Sigma, \\hat V^T $ para que sejam de dimensões $m \\times s, s \\times s, s \\times n$. Essa representação ocupa $s(s + m + n)$ bytes e tem a vantagem da flexibilidade na escolha de $s$. Abaixo, exibimos diversas imagens comprimidas e seus respectivos valores de $s$, além do espaço em disco e o erro médio quadrado por pixel.  \n",
        "Para imagens com mais de um canal, basta aplicar o mesmo raciocínio em cada canal de cor, e uní-los para reconstruir a imagem."
      ]
    },
    {
      "cell_type": "markdown",
      "metadata": {
        "colab_type": "text",
        "id": "6AuohDWh7GDP"
      },
      "source": [
        "## Implementação (Francis e SVD)"
      ]
    },
    {
      "cell_type": "code",
      "metadata": {
        "id": "XS2pa-HtZOVI",
        "colab_type": "code",
        "colab": {}
      },
      "source": [
        "EPSILON = 1e-6\n",
        "MAX_ITERATIONS = 1000\n",
        "\n",
        "\n",
        "def non_diagonal_error(B):\n",
        "    \"\"\"\n",
        "    Return absolute max value of\n",
        "    B outside the main diagonal\n",
        "    \"\"\"\n",
        "    mask = np.ones(B.shape, dtype=bool)\n",
        "    np.fill_diagonal(mask, 0)     # Mask is true in all indices except diagonal\n",
        "    return np.abs(B)[mask].max()  # Return abs max element of the masked matrix\n",
        "\n",
        "\n",
        "\n",
        "def francis(B, tol=EPSILON, max_iterations=MAX_ITERATIONS, print_error=False):\n",
        "    \"\"\"\n",
        "    Given B a symmetric square matrix,\n",
        "    returns a tuple with B's eigenvectors as\n",
        "    the first element and their eigenvalues as\n",
        "    the second element.\n",
        "    The eigenvectors are returned as a matrix\n",
        "    where the columns of the matrix are the\n",
        "    eigenvectors. (n x n)\n",
        "\n",
        "    NOTE: all values are an approxumation with\n",
        "          tolerance 'tol'\n",
        "    \"\"\"\n",
        "    if B.shape[0] != B.shape[1]: raise ValueError(\"Matrix must be square!\")\n",
        "\n",
        "    iterations = 0\n",
        "    n = B.shape[0]\n",
        "    B_k, V = B, np.eye(n)   # Initialize V as identity for first dot protuct\n",
        "\n",
        "    while iterations < max_iterations and non_diagonal_error(B_k) > tol:\n",
        "        Q, R = np.linalg.qr(B_k)\n",
        "        B_k = np.dot(R, Q)\n",
        "        V = np.dot(V, Q)\n",
        "        iterations += 1\n",
        "\n",
        "    eigenvalues = np.diag(B_k)\n",
        "    eigenvectors = V\n",
        "\n",
        "    if (iterations >= max_iterations): print(f'Francis Method exceeded max iterations with dimensions ({n}x{n}). Might not have converged.')\n",
        "\n",
        "    if print_error: print('Took {} iterations with off-diagonal error {}'.format(iterations, non_diagonal_error(B_k)))\n",
        "    return eigenvectors, eigenvalues"
      ],
      "execution_count": 24,
      "outputs": []
    },
    {
      "cell_type": "code",
      "metadata": {
        "id": "ZcK4qiXQZZKM",
        "colab_type": "code",
        "colab": {}
      },
      "source": [
        "def truncated_svd(A, tol=1e-4, max_iterations=1e3):\n",
        "    \"\"\"\n",
        "    Find truncated SVD decomposition of A.\n",
        "    Find matrices such that A = U*S*V^T, where\n",
        "        A is m x n\n",
        "        U is m, min(m, n)\n",
        "        S is a diagonal matrix of min(m, n) x min(m, n)\n",
        "        V^T is min(m, n), n\n",
        "    \n",
        "    Returns tuple with (U, np.diag(S), V^T)\n",
        "    \"\"\"\n",
        "    A = np.array(A)\n",
        "    m, n = A.shape\n",
        "    min_dim = min(m, n)\n",
        "\n",
        "    V, eigenvalues = francis(np.dot(A.T, A), tol=tol, max_iterations=max_iterations)\n",
        "    singular_vals = np.sqrt(eigenvalues[:min_dim])   # Truncate singular values\n",
        "\n",
        "    V = V[:, :min_dim] # Truncate V\n",
        "\n",
        "    U = np.dot(np.dot(A, V), np.diag(1/singular_vals))\n",
        "\n",
        "    return U, singular_vals, V.T"
      ],
      "execution_count": 25,
      "outputs": []
    },
    {
      "cell_type": "markdown",
      "metadata": {
        "id": "JIchMEwzYJ7f",
        "colab_type": "text"
      },
      "source": [
        "## Comparação com a implementação do NumPy"
      ]
    },
    {
      "cell_type": "code",
      "metadata": {
        "id": "35JUyKufYPSC",
        "colab_type": "code",
        "colab": {}
      },
      "source": [
        "import random\n",
        "\n",
        "\n",
        "def svd_error(s1, s2):\n",
        "    return np.sum(np.abs((s1 - s2)**2))\n",
        "\n",
        "\n",
        "def compare_svd(max_m = 30, max_n = 30, n_tests = 10):\n",
        "    \"\"\"\n",
        "    Returns tuple with Xs (m * n), errors and execution times\n",
        "    as per _compare_implementation_ standard. The test cases\n",
        "    are run with matrices of random m, n in range max_m, max_n\n",
        "    \"\"\"\n",
        "    Ms = sorted([random.randint(2, max_m + 1) for i in range(n_tests)])\n",
        "    Ns = sorted([random.randint(2, max_n + 1) for i in range(n_tests)])\n",
        "    Xs = []\n",
        "    errors = []\n",
        "\n",
        "    our_times = []\n",
        "    np_times = []\n",
        "\n",
        "    for m, n in zip(Ms, Ns):\n",
        "        Xs.append(m*n)\n",
        "\n",
        "        A = 255*np.random.rand(m, n)\n",
        "        np_time, (U, s, V) = numpy_wrapper(np.linalg.svd, A, full_matrices=False)\n",
        "        our_time, (Up, sp, Vp) = implementation_wrapper(truncated_svd, A)\n",
        "\n",
        "        our_times.append(our_time)\n",
        "        np_times.append(np_time)\n",
        "\n",
        "        errors.append(svd_error(s, sp))\n",
        "\n",
        "    return Xs, errors, (our_times, np_times)"
      ],
      "execution_count": 26,
      "outputs": []
    },
    {
      "cell_type": "code",
      "metadata": {
        "id": "OGZboGXmnHwJ",
        "colab_type": "code",
        "colab": {
          "base_uri": "https://localhost:8080/",
          "height": 281
        },
        "outputId": "96713f23-398c-46eb-db2a-45e1196b3257"
      },
      "source": [
        "Xs, errors, times = compare_svd()\n",
        "compare_implementation(Xs, errors, times, linearize_x=True, x_label='Matrix size (m*n)',\\\n",
        "                       title='SVD implementation comparison', err_metric='Square distance between singular value vectors')"
      ],
      "execution_count": 49,
      "outputs": [
        {
          "output_type": "display_data",
          "data": {
            "image/png": "[encoded data removed]",
            "text/plain": [
              "<Figure size 432x288 with 2 Axes>"
            ]
          },
          "metadata": {
            "tags": [],
            "needs_background": "light"
          }
        }
      ]
    },
    {
      "cell_type": "markdown",
      "metadata": {
        "colab_type": "text",
        "id": "VfjSjBAu7GDT"
      },
      "source": [
        "## Aplicação: Compressão de Imagens"
      ]
    },
    {
      "cell_type": "markdown",
      "metadata": {
        "id": "_-Z05H63W2Hy",
        "colab_type": "text"
      },
      "source": [
        "**OBS:** embora a nossa implementação da decomposição SVD esteja correta (vide os testes acima), o algoritmo utilizado (através do método de Francis) é muito \"ingênuo\". Tentamos rodá-lo na aplicação de compressão de imagens e ele demora muito tempo para o método de Francis convergir (mais de 10 minutos e ainda não tinha convergido). Portanto, decidimos utilizar a implementação do NumPy para que a visualização seja mais rápida."
      ]
    },
    {
      "cell_type": "code",
      "metadata": {
        "id": "qNeEThTMaKUH",
        "colab_type": "code",
        "colab": {}
      },
      "source": [
        "import imageio\n",
        "\n",
        "\n",
        "def mean_square_error(img1, img2):\n",
        "    '''\n",
        "    Returns mean square difference between\n",
        "    two matrices\n",
        "    '''\n",
        "    if img1.shape != img2.shape:\n",
        "        raise Exception(\"Arrays must be of the same shape\")\n",
        "    \n",
        "    n_pixels = img1.shape[0] * img1.shape[1]\n",
        "    total_value = np.sum((np.sum(img1, axis=2)/3 - np.sum(img2, axis=2)/3)**2)\n",
        "\n",
        "    return np.sqrt(total_value/n_pixels)\n",
        "\n",
        "\n",
        "def normalize(img):\n",
        "    '''\n",
        "    Return img normalized to interval [0, 255] as\n",
        "    an integer matrix\n",
        "    '''\n",
        "    return ((img - img.min())*\\\n",
        "            (255/(img.max()-img.min()))).astype('uint8')\n",
        "\n",
        "\n",
        "def grayscale(img):\n",
        "    '''\n",
        "    Return np array with the grayscale\n",
        "    form of the input _img_.\n",
        "    '''\n",
        "    img_gray = np.zeros(img.shape[:2])\n",
        "    img_gray += img[:,:,0]\n",
        "    img_gray += img[:,:,1]\n",
        "    img_gray += img[:,:,2]\n",
        "\n",
        "    img_gray *= 255.0/img_gray.max()\n",
        "    return img_gray"
      ],
      "execution_count": null,
      "outputs": []
    },
    {
      "cell_type": "code",
      "metadata": {
        "id": "85OtsxG-DXKy",
        "colab_type": "code",
        "colab": {}
      },
      "source": [
        "def compress(img, modes, return_matrices=False):\n",
        "    '''\n",
        "    Return np array containing the compressed version of\n",
        "    img by using _modes_ singular values in compression.\n",
        "    Set _return_matrices_ to True to return instead an array\n",
        "    of tuples containing each the compressed matrices that\n",
        "    can be multiplied to generate the resulting image. The\n",
        "    matrices are stored as (U', s', Vh') and each channel\n",
        "    can be reconstructed by multiplying U' * np.diag(s') * Vh'.\n",
        "    '''\n",
        "\n",
        "    channel_matrices = []\n",
        "\n",
        "    m, n = img.shape[:2]\n",
        "    if len(img.shape) < 3: img = img.reshape((m, n, 1))\n",
        "\n",
        "    img_compressed = np.zeros(img.shape)\n",
        "\n",
        "    for channel in range(img.shape[2]):\n",
        "        U, s, Vh = np.linalg.svd(img[:,:,channel], full_matrices=False)\n",
        "\n",
        "        U_prime = U[:, :modes]\n",
        "        s_prime = s[:modes]\n",
        "        Vh_prime = Vh[:modes, :]\n",
        "\n",
        "        channel_matrices.append((U_prime, s_prime, Vh_prime))\n",
        "\n",
        "        compressed_channel = np.dot(np.dot(U_prime, np.diag(s_prime)), Vh_prime)\n",
        "        img_compressed[:,:,channel] = compressed_channel\n",
        "\n",
        "    img_compressed = normalize(img_compressed)\n",
        "\n",
        "    if return_matrices: return channel_matrices\n",
        "    return img_compressed"
      ],
      "execution_count": null,
      "outputs": []
    },
    {
      "cell_type": "code",
      "metadata": {
        "id": "fl7d1V55UX2n",
        "colab_type": "code",
        "colab": {}
      },
      "source": [
        "def visualize_compression(img_url, initial_mode=1, modes_step=6, n_rows=2, make_grayscale=False):\n",
        "    '''\n",
        "    Visualize compression by displaying different compression\n",
        "    levels and their respective error and size.\n",
        "\n",
        "    initial_mode:   initial number of singular values to use in compression\n",
        "    modes_step:     how much to increase modes between iteration\n",
        "    n_rows:         how many rows to display. Value must be >= 1\n",
        "    make_grayscale: whether to convert initial image to grayscale\n",
        "    '''\n",
        "    if make_grayscale: img = normalize(grayscale(imageio.imread(img_url)))\n",
        "    else: img = normalize(imageio.imread(img_url))\n",
        "\n",
        "    m, n = img.shape[:2]\n",
        "\n",
        "    channels = 1\n",
        "    if len(img.shape) >= 3: channels = img.shape[2]\n",
        "\n",
        "    img = img.reshape((m, n, channels))\n",
        "    original_img_size = channels*m*n/1000\n",
        "\n",
        "    N_COLS = 3\n",
        "    fig, axs = plt.subplots(n_rows+1, N_COLS, figsize=(20, 4*(n_rows + 1)))\n",
        "\n",
        "    x_modes = []\n",
        "    sizes = []\n",
        "    errors = []\n",
        "\n",
        "    modes = initial_mode\n",
        "    for i, ax in enumerate(axs.flat):\n",
        "        if i >= n_rows*N_COLS: break\n",
        "        \n",
        "        ax.set_yticks([])\n",
        "        ax.set_xticks([])\n",
        "\n",
        "        x_modes.append(modes)\n",
        "        size = min(channels*modes*(m + n + modes)/1000, original_img_size)\n",
        "        sizes.append(100*size/original_img_size)\n",
        "\n",
        "        compressed_img = compress(img, modes)\n",
        "        errors.append(mean_square_error(img, compressed_img))\n",
        "\n",
        "        if channels == 1: compressed_img = compressed_img.reshape((m, n))\n",
        "\n",
        "        ax.imshow(compressed_img, cmap='gray')\n",
        "        ax.set_title(f'{modes} Singular Values ({size} Kb)')\n",
        "\n",
        "        modes += modes_step\n",
        "\n",
        "    error_ax = plt.subplot(n_rows + 1, 2, 2*n_rows + 2)\n",
        "    error_ax.set_xticks(x_modes)\n",
        "    error_ax.set_xlabel('Number of Singular Values used in compression')\n",
        "    size_ax = error_ax.twinx()\n",
        "\n",
        "    error_ax.plot(x_modes, errors, color='red')\n",
        "    error_ax.set_ylabel('Mean Pixel Error\\n(Red)')\n",
        "\n",
        "    size_ax.plot(x_modes, sizes)\n",
        "    # size_ax.set_ylim((0, 100))\n",
        "    size_ax.set_ylabel('Relative size to original Image (%)\\n(Blue)')\n",
        "\n",
        "    og_img_ax = plt.subplot(n_rows + 1, 2, 2*n_rows + 1)\n",
        "    og_img_ax.set_yticks([])\n",
        "    og_img_ax.set_xticks([])\n",
        "    og_img_ax.set_title(f'Original Image ({original_img_size} Kb)')\n",
        "\n",
        "    if channels == 1: img = img.reshape((m, n))\n",
        "    og_img_ax.imshow(img, cmap='gray')"
      ],
      "execution_count": null,
      "outputs": []
    },
    {
      "cell_type": "code",
      "metadata": {
        "id": "_74sb1t0Ukdw",
        "colab_type": "code",
        "colab": {}
      },
      "source": [
        "toucan_url = 'https://test.cdn.download.ams.birds.cornell.edu/api/v1/asset/96276931/900'\n",
        "visualize_compression(toucan_url)"
      ],
      "execution_count": null,
      "outputs": []
    },
    {
      "cell_type": "code",
      "metadata": {
        "id": "JU0DZ_pDDSq_",
        "colab_type": "code",
        "colab": {}
      },
      "source": [
        "mo_url = 'https://avatars3.githubusercontent.com/u/3063242?s=400&u=ea38dd5b7528fa6f2e3ee3cdd5171e9ffc481ef0&v=4'\n",
        "# <3\n",
        "visualize_compression(mo_url, n_rows=3)"
      ],
      "execution_count": null,
      "outputs": []
    },
    {
      "cell_type": "code",
      "metadata": {
        "id": "-1xFmouAFiKT",
        "colab_type": "code",
        "colab": {}
      },
      "source": [
        "score_url = 'https://musescore.com/static/musescore/scoredata/gen/7/4/3/4792347/4faed97251bfa97fbaf848af47de7325574896dd/score_0.png@850x1100?no-cache=1584697174&bgclr=ffffff'\n",
        "visualize_compression(score_url, n_rows=6)"
      ],
      "execution_count": null,
      "outputs": []
    }
  ]
}